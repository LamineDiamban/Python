{
  "nbformat": 4,
  "nbformat_minor": 0,
  "metadata": {
    "colab": {
      "name": "2524_02_04_lin_reg_TF.ipynb",
      "version": "0.3.2",
      "provenance": [],
      "collapsed_sections": []
    },
    "kernelspec": {
      "name": "python2",
      "display_name": "Python 2"
    }
  },
  "cells": [
    {
      "metadata": {
        "id": "lpWRD7hRYSyJ",
        "colab_type": "text"
      },
      "cell_type": "markdown",
      "source": [
        "# Implémenter un modèle avec TensorFlow\n",
        "## Objectif\n",
        "* apprendre comment concevoir un modèle  de machine learning\n",
        "* utiliser Tensorflow pour implémenter un modèle  linéaire de machine learning\n",
        "\n"
      ]
    },
    {
      "metadata": {
        "id": "xmQ0zP4GjMYJ",
        "colab_type": "text"
      },
      "cell_type": "markdown",
      "source": [
        "## Modèle linéaire avec TensorFlow\n"
      ]
    },
    {
      "metadata": {
        "id": "12nuS5rTSY04",
        "colab_type": "code",
        "outputId": "cca147a9-d062-4394-8cb7-6ea524e76110",
        "colab": {
          "base_uri": "https://localhost:8080/",
          "height": 347
        }
      },
      "cell_type": "code",
      "source": [
        "# modèle linéaire : un aperçu\n",
        "\n",
        "import numpy as np\n",
        "import matplotlib.pyplot as plt\n",
        "\n",
        "num_pts = 100\n",
        "list_pts = []\n",
        "for i in xrange(num_pts):\n",
        "  x1= np.random.normal(0.0, 0.9)\n",
        "  y1= x1 * 0.1 + 0.3 + np.random.normal(0.0, 0.05)\n",
        "  list_pts.append([x1, y1])\n",
        "\n",
        "x_data = [v[0] for v in list_pts]\n",
        "y_data = [v[1] for v in list_pts]\n",
        "\n",
        "#Graphique\n",
        "plt.plot(x_data, y_data, 'ro')\n",
        "plt.legend()\n",
        "plt.show()"
      ],
      "execution_count": 4,
      "outputs": [
        {
          "output_type": "display_data",
          "data": {
            "image/png": "[encoded data removed]",
            "text/plain": [
              "<Figure size 576x396 with 1 Axes>"
            ]
          },
          "metadata": {
            "tags": []
          }
        }
      ]
    },
    {
      "metadata": {
        "id": "SRr8ILFaN1X3",
        "colab_type": "code",
        "colab": {}
      },
      "cell_type": "code",
      "source": [
        "import tensorflow as tf\n",
        "# ========\n",
        "#  CONCEPTION DU GRAPHE\n",
        "# ========\n",
        "\n",
        "\n",
        "W = tf.Variable(tf.random_uniform([1], -1.0, 1.0))\n",
        "b = tf.Variable(tf.zeros([1]))\n",
        "\n",
        "y = W * x_data + b\n",
        "\n",
        "'''\n",
        "Problème : trouve 'W' tel que la droite approxime le mieux possible le nuage de points\n",
        "\n",
        "L'algorithme est le suivant : \n",
        "* on présente les données d'entrée (input : x_data)\n",
        "* le modèle réalise une prédiction grâce à la relation linéaire : W * x_data + b\n",
        "* comparaison de la prédiction avec la vraie valeur : y - y_data\n",
        "*  calcul  de la fonction d'erreur (\"loss\")\n",
        "C'est la moyenne du carré de l'erreur que l'on va faire décroitre.\n",
        "On va rapprocher le plus possible chaque valeur prédite de la vraie valeur :\n",
        "train = optimizer.minimize(loss)\n",
        "* on modifie la valeur des inconnues (contenues dans 'W')\n",
        "* on recommence \n",
        "'''\n",
        "\n",
        "loss = tf.reduce_mean(tf.square(y - y_data))\n",
        "optimizer = tf.train.GradientDescentOptimizer(0.5)\n",
        "train = optimizer.minimize(loss)\n",
        "\n",
        "init = tf.global_variables_initializer()\n",
        "\n",
        "sess = tf.Session()\n",
        "sess.run(init)"
      ],
      "execution_count": 0,
      "outputs": []
    },
    {
      "metadata": {
        "id": "TRt7v01YOIfl",
        "colab_type": "code",
        "outputId": "b8550f11-443f-4deb-d9cf-a5cf5e4edbee",
        "colab": {
          "base_uri": "https://localhost:8080/",
          "height": 204
        }
      },
      "cell_type": "code",
      "source": [
        "# ========\n",
        "#  CALCUL DU GRAPHE\n",
        "# ========\n",
        "\n",
        "\n",
        "for step in xrange(101):\n",
        "    sess.run(train)\n",
        "    if step % 10 == 0:\n",
        "        print(step, sess.run(W), sess.run(b))"
      ],
      "execution_count": 7,
      "outputs": [
        {
          "output_type": "stream",
          "text": [
            "(0, array([-0.10983232], dtype=float32), array([0.26483592], dtype=float32))\n",
            "(10, array([0.09754845], dtype=float32), array([0.2988688], dtype=float32))\n",
            "(20, array([0.09754987], dtype=float32), array([0.29886904], dtype=float32))\n",
            "(30, array([0.09754987], dtype=float32), array([0.29886904], dtype=float32))\n",
            "(40, array([0.09754987], dtype=float32), array([0.29886904], dtype=float32))\n",
            "(50, array([0.09754987], dtype=float32), array([0.29886904], dtype=float32))\n",
            "(60, array([0.09754987], dtype=float32), array([0.29886904], dtype=float32))\n",
            "(70, array([0.09754987], dtype=float32), array([0.29886904], dtype=float32))\n",
            "(80, array([0.09754987], dtype=float32), array([0.29886904], dtype=float32))\n",
            "(90, array([0.09754987], dtype=float32), array([0.29886904], dtype=float32))\n",
            "(100, array([0.09754987], dtype=float32), array([0.29886904], dtype=float32))\n"
          ],
          "name": "stdout"
        }
      ]
    },
    {
      "metadata": {
        "id": "MFhhWx2vOMyP",
        "colab_type": "text"
      },
      "cell_type": "markdown",
      "source": [
        "On trace la droite obtenue"
      ]
    },
    {
      "metadata": {
        "id": "hs0w0GhqOJdl",
        "colab_type": "code",
        "outputId": "a8a68c8b-10fd-4808-c8d4-5879e441e327",
        "colab": {
          "base_uri": "https://localhost:8080/",
          "height": 347
        }
      },
      "cell_type": "code",
      "source": [
        "plt.plot(x_data, y_data, 'ro')\n",
        "plt.plot(x_data, sess.run(W) * x_data + sess.run(b))\n",
        "plt.legend()\n",
        "plt.show()"
      ],
      "execution_count": 8,
      "outputs": [
        {
          "output_type": "display_data",
          "data": {
            "image/png": "[encoded data removed]",
            "text/plain": [
              "<Figure size 576x396 with 1 Axes>"
            ]
          },
          "metadata": {
            "tags": []
          }
        }
      ]
    }
  ]
}