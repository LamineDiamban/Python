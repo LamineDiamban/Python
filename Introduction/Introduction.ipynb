{
 "cells": [
  {
   "cell_type": "code",
   "execution_count": 3,
   "metadata": {},
   "outputs": [
    {
     "name": "stdout",
     "output_type": "stream",
     "text": [
      "Mamadou\n",
      "#----------#\n",
      "Mamadou  DIAMBAN\n",
      "#----------#\n",
      "m\n"
     ]
    }
   ],
   "source": [
    "name = \"Mamadou\"\n",
    "print(name)\n",
    "print(\"#----------#\")\n",
    "print(name + \" \", \"Diamban\".upper())\n",
    "print(\"#----------#\")\n",
    "print(name[2])"
   ]
  },
  {
   "cell_type": "code",
   "execution_count": 15,
   "metadata": {},
   "outputs": [
    {
     "name": "stdout",
     "output_type": "stream",
     "text": [
      "3030\n",
      "#----------#\n",
      "60\n",
      "#----------#\n",
      "Mamadou a 30 ans\n"
     ]
    }
   ],
   "source": [
    "number = 30\n",
    "number_string = \"30\"\n",
    "print(str(number) + number_string)\n",
    "print(\"#----------#\")\n",
    "print(number + int(number_string))\n",
    "print(\"#----------#\")\n",
    "print(\"{} a {} ans\".format(name, number))\n"
   ]
  },
  {
   "cell_type": "code",
   "execution_count": 19,
   "metadata": {},
   "outputs": [
    {
     "name": "stdout",
     "output_type": "stream",
     "text": [
      "<class 'str'>\n"
     ]
    },
    {
     "data": {
      "text/plain": [
       "int"
      ]
     },
     "execution_count": 19,
     "metadata": {},
     "output_type": "execute_result"
    }
   ],
   "source": [
    "print(type(name))\n",
    "type(number)"
   ]
  },
  {
   "cell_type": "code",
   "execution_count": 12,
   "metadata": {},
   "outputs": [
    {
     "data": {
      "text/plain": [
       "'undi'"
      ]
     },
     "execution_count": 12,
     "metadata": {},
     "output_type": "execute_result"
    }
   ],
   "source": [
    "chaine = \"lundi\"\n",
    "\n",
    "chaine[1:3] + chaine[3:5] \n"
   ]
  },
  {
   "cell_type": "markdown",
   "metadata": {},
   "source": [
    "# Listes"
   ]
  },
  {
   "cell_type": "code",
   "execution_count": 7,
   "metadata": {},
   "outputs": [
    {
     "name": "stdout",
     "output_type": "stream",
     "text": [
      "['Mamadou', 'Lamine', 'Diamban', 30, 33624242424, 'diamban@password.com']\n",
      "#----------#\n",
      "Lamine\n",
      "#----------#\n",
      "['Lamine', 'Diamban', 30, 33624242424, 'diamban@password.com']\n",
      "#----------#\n",
      "['Mamadou', 'Lamine']\n",
      "#----------#\n",
      "['Mamadou', 'Lamine', 'Diamban']\n",
      "#----------#\n",
      "diamban@password.com\n"
     ]
    }
   ],
   "source": [
    "list_test = [\"Mamadou\", \"Lamine\", \"Diamban\", 30, 33624242424, \"diamban@password.com\"]\n",
    "print(list_test)\n",
    "print(\"#----------#\")\n",
    "print(list_test[1])\n",
    "print(\"#----------#\")\n",
    "print(list_test[1:])\n",
    "print(\"#----------#\")\n",
    "print(list_test[0:2])\n",
    "print(\"#----------#\")\n",
    "print(list_test[:3])\n",
    "print(\"#----------#\")\n",
    "print(list_test[-1])"
   ]
  },
  {
   "cell_type": "code",
   "execution_count": 10,
   "metadata": {},
   "outputs": [
    {
     "name": "stdout",
     "output_type": "stream",
     "text": [
      "[0, 1, 4, 2, 3]\n",
      "[0, 1, 4, 2, 3]\n",
      "[1, 4, 2, 3]\n",
      "0\n"
     ]
    }
   ],
   "source": [
    "liste1= [0, 1, 2, 3]\n",
    "liste1.insert(2, 4)\n",
    "print(liste1)\n",
    "liste2 = [0, 1, 2, 3]\n",
    "liste2[2:2] = [4]\n",
    "print(liste2)\n"
   ]
  },
  {
   "cell_type": "code",
   "execution_count": 12,
   "metadata": {},
   "outputs": [
    {
     "name": "stdout",
     "output_type": "stream",
     "text": [
      "[1, 2, 3]\n",
      "0\n"
     ]
    }
   ],
   "source": [
    "liste1 = [0, 1, 2, 3]\n",
    "suivant = liste1.pop(0)\n",
    "print(liste1)\n",
    "print(suivant)\n"
   ]
  },
  {
   "cell_type": "code",
   "execution_count": 19,
   "metadata": {},
   "outputs": [
    {
     "name": "stdout",
     "output_type": "stream",
     "text": [
      "0\n",
      "[1, 2, 3]\n"
     ]
    }
   ],
   "source": [
    "liste1 = [0, 1, 2, 3]\n",
    "suivant = liste1[0]\n",
    "del liste1[0]\n",
    "print(suivant)\n",
    "print(liste1)\n",
    "\n"
   ]
  },
  {
   "cell_type": "code",
   "execution_count": 25,
   "metadata": {},
   "outputs": [
    {
     "name": "stdout",
     "output_type": "stream",
     "text": [
      "[3, 2, 1, 0]\n"
     ]
    }
   ],
   "source": [
    "liste1 = [1, 0, 3, 2]\n",
    "liste1.sort(reverse=True)\n",
    "print(liste1)\n"
   ]
  },
  {
   "cell_type": "code",
   "execution_count": 125,
   "metadata": {},
   "outputs": [
    {
     "name": "stdout",
     "output_type": "stream",
     "text": [
      "<class 'list'>\n",
      "[2, 3, 5]\n",
      "[8, 3, 5]\n",
      "[8, 3, 5, ['Mamadou', [], 'Diamban', 30, 33624242424, 'diamban@password.com', 'Data Analyst']]\n"
     ]
    }
   ],
   "source": [
    "list_test2 = [2, 3, 5]\n",
    "print(list_test2)\n",
    "\n",
    "list_test2[0] = list_test2[0] * 4\n",
    "print(list_test2)\n",
    "\n",
    "list_test2.append(list_test)\n",
    "\n",
    "print(list_test2)\n"
   ]
  },
  {
   "cell_type": "code",
   "execution_count": 40,
   "metadata": {},
   "outputs": [
    {
     "name": "stdout",
     "output_type": "stream",
     "text": [
      "[9, 36, 81]\n"
     ]
    }
   ],
   "source": [
    "entree = [1, 2, 3, 4, 5, 6, 7, 8, 9]\n",
    "carres = [x**2 for x in entree]\n",
    "print(carres)\n"
   ]
  },
  {
   "cell_type": "code",
   "execution_count": 61,
   "metadata": {},
   "outputs": [
    {
     "data": {
      "text/plain": [
       "[[0], [0], [0]]"
      ]
     },
     "execution_count": 61,
     "metadata": {},
     "output_type": "execute_result"
    }
   ],
   "source": [
    "cellule = [0]\n",
    "liste = [cellule, cellule, cellule]\n",
    "# puis\n",
    "cellule = [1]\n",
    "liste\n"
   ]
  },
  {
   "cell_type": "code",
   "execution_count": 79,
   "metadata": {},
   "outputs": [
    {
     "data": {
      "text/plain": [
       "[0, 4, 16, 36, 64]"
      ]
     },
     "execution_count": 79,
     "metadata": {},
     "output_type": "execute_result"
    }
   ],
   "source": [
    "list(map(lambda x: x**2, filter(lambda x: x % 2 == 0, range(10))))\n"
   ]
  },
  {
   "cell_type": "code",
   "execution_count": 85,
   "metadata": {},
   "outputs": [
    {
     "data": {
      "text/plain": [
       "[0, 4, 16, 36, 64]"
      ]
     },
     "execution_count": 85,
     "metadata": {},
     "output_type": "execute_result"
    }
   ],
   "source": [
    "[(lambda x: x**2)(x) for x in range(10) if x % 2 == 0]\n"
   ]
  },
  {
   "cell_type": "code",
   "execution_count": 99,
   "metadata": {},
   "outputs": [
    {
     "data": {
      "text/plain": [
       "{1, 4, 9, 16, 25, 49, 81}"
      ]
     },
     "execution_count": 99,
     "metadata": {},
     "output_type": "execute_result"
    }
   ],
   "source": [
    "ma_liste = [1, 2, 4, 1, 2, 7, 4, 2, 1, 3, 4, 2, 5, 1, 7, 4, 9, 5, 4, 2, 4]\n",
    "#{x**2 for x in ma_liste}\n",
    "set([x**2 for x in ma_liste])\n"
   ]
  },
  {
   "cell_type": "code",
   "execution_count": 130,
   "metadata": {},
   "outputs": [
    {
     "name": "stdout",
     "output_type": "stream",
     "text": [
      "(1, 2)\n",
      "('a', 4, 5, 6, 7, [1, 2])\n",
      "([1, 2, 'a'],)\n",
      "(1, 2, 'a')\n"
     ]
    }
   ],
   "source": [
    "def f(*args):\n",
    "    print(args)\n",
    "\n",
    "\n",
    "L = [1, 2, 'a']\n",
    "\n",
    "f(1, 2)\n",
    "f('a', 4, 5, 6, 7, [1, 2])\n",
    "f(L)\n",
    "f(*L)\n"
   ]
  },
  {
   "cell_type": "code",
   "execution_count": 132,
   "metadata": {},
   "outputs": [
    {
     "name": "stdout",
     "output_type": "stream",
     "text": [
      "[0, 1, 4, 9, 16, 25, 36, 49, 64, 81]\n",
      "[]\n"
     ]
    }
   ],
   "source": [
    "carre = (x**2 for x in range(10))\n",
    "print(list(carre))\n",
    "res = [x**2 for x in carre]\n",
    "print(res)"
   ]
  },
  {
   "cell_type": "markdown",
   "metadata": {},
   "source": [
    "# Tuples"
   ]
  },
  {
   "cell_type": "code",
   "execution_count": 25,
   "metadata": {},
   "outputs": [
    {
     "name": "stdout",
     "output_type": "stream",
     "text": [
      "('Mamadou Lamine', 'Diamban', 30, ['Football', 'Formule 1'])\n"
     ]
    }
   ],
   "source": [
    "tuples = (\"Mamadou Lamine\", \"Diamban\", 30, [\"Football\", \"Formule 1\"])\n",
    "print(tuples)"
   ]
  },
  {
   "cell_type": "markdown",
   "metadata": {},
   "source": [
    "# Dictionnaires"
   ]
  },
  {
   "cell_type": "code",
   "execution_count": 21,
   "metadata": {},
   "outputs": [
    {
     "name": "stdout",
     "output_type": "stream",
     "text": [
      "{'prenom': 'Mamadou Lamine', 'nom': 'Diamban', 'age': 30, 'loisir': ['Football', 'Formule 1']}\n",
      "#----------#\n",
      "30\n",
      "{'prenom': 'Mamadou', 'nom': 'Diamban', 'age': 30, 'loisir': ['Football'], 'email': 'diamban@password.com'}\n",
      "#----------#\n",
      "dict_keys(['prenom', 'nom', 'age', 'loisir', 'email'])\n",
      "#----------#\n",
      "dict_values(['Mamadou', 'Diamban', 30, ['Football'], 'diamban@password.com'])\n",
      "#----------#\n",
      "dict_items([('prenom', 'Mamadou'), ('nom', 'Diamban'), ('age', 30), ('loisir', ['Football']), ('email', 'diamban@password.com')])\n"
     ]
    }
   ],
   "source": [
    "dico = {\"prenom\" : \"Mamadou Lamine\", \"nom\" : \"Diamban\", \"age\" : 30, \"loisir\" : [\"Football\", \"Formule 1\"]}\n",
    "print(dico)\n",
    "\n",
    "print(\"#----------#\")\n",
    "print(dico[\"age\"])\n",
    "\n",
    "dico[\"email\"] = \"diamban@password.com\"\n",
    "dico[\"prenom\"] = \"Mamadou\"\n",
    "\n",
    "del dico[\"loisir\"][1]\n",
    "print(dico)\n",
    "\n",
    "print(\"#----------#\")\n",
    "print(dico.keys())\n",
    "\n",
    "print(\"#----------#\")\n",
    "print(dico.values())\n",
    "\n",
    "print(\"#----------#\")\n",
    "print(dico.items())\n"
   ]
  },
  {
   "cell_type": "code",
   "execution_count": 43,
   "metadata": {},
   "outputs": [
    {
     "data": {
      "text/plain": [
       "['Mamadou',\n",
       " [],\n",
       " 'Diamban',\n",
       " 30,\n",
       " 33624242424,\n",
       " 'diamban@password.com',\n",
       " 'Data Analyst']"
      ]
     },
     "execution_count": 43,
     "metadata": {},
     "output_type": "execute_result"
    }
   ],
   "source": [
    "list_test[1] = []\n",
    "list_test = list_test + [\"Data Analyst\"]\n",
    "list_test"
   ]
  },
  {
   "cell_type": "markdown",
   "metadata": {},
   "source": [
    "## Instructions"
   ]
  },
  {
   "cell_type": "code",
   "execution_count": 229,
   "metadata": {},
   "outputs": [
    {
     "name": "stdout",
     "output_type": "stream",
     "text": [
      "Trop petit\n"
     ]
    }
   ],
   "source": [
    "number = int(input(\"Entrez un nombre !\"))\n",
    "\n",
    "if number == 10:\n",
    "    print(\"Vous y êtes !\")\n",
    "elif number > 10:\n",
    "    print(\"Trop grand\")\n",
    "else:\n",
    "    print(\"Trop petit\")"
   ]
  },
  {
   "cell_type": "markdown",
   "metadata": {},
   "source": [
    "## Boucles"
   ]
  },
  {
   "cell_type": "code",
   "execution_count": 108,
   "metadata": {},
   "outputs": [
    {
     "name": "stdout",
     "output_type": "stream",
     "text": [
      "1\n",
      "2\n"
     ]
    }
   ],
   "source": [
    "for i in range(1, 3):\n",
    "    print(i)"
   ]
  },
  {
   "cell_type": "code",
   "execution_count": 109,
   "metadata": {},
   "outputs": [
    {
     "name": "stdout",
     "output_type": "stream",
     "text": [
      "0\n",
      "1\n",
      "2\n"
     ]
    }
   ],
   "source": [
    "for i in range(3):\n",
    "    print(i)"
   ]
  },
  {
   "cell_type": "code",
   "execution_count": 47,
   "metadata": {},
   "outputs": [
    {
     "name": "stdout",
     "output_type": "stream",
     "text": [
      "Mamadou\n",
      "Diamban\n",
      "30\n",
      "['Football']\n",
      "diamban@password.com\n"
     ]
    }
   ],
   "source": [
    "for i in dico:\n",
    "    print(dico[i])"
   ]
  },
  {
   "cell_type": "code",
   "execution_count": 75,
   "metadata": {},
   "outputs": [
    {
     "name": "stdout",
     "output_type": "stream",
     "text": [
      "disparaitr\n",
      "disparait\n",
      "disparai\n",
      "dispara\n",
      "dispar\n",
      "dispa\n",
      "disp\n",
      "dis\n",
      "di\n",
      "d\n",
      "\n"
     ]
    }
   ],
   "source": [
    "a = 'disparaitre'\n",
    "while a:\n",
    "    a = a[:-1]\n",
    "    print(a)\n"
   ]
  },
  {
   "cell_type": "code",
   "execution_count": 207,
   "metadata": {},
   "outputs": [
    {
     "name": "stdout",
     "output_type": "stream",
     "text": [
      "2 x 1 = 2\n",
      "2 x 2 = 4\n",
      "2 x 3 = 6\n",
      "2 x 4 = 8\n",
      "2 x 5 = 10\n",
      "2 x 6 = 12\n",
      "2 x 7 = 14\n",
      "2 x 8 = 16\n",
      "2 x 9 = 18\n",
      "2 x 10 = 20\n",
      "#---------#\n",
      "3 x 1 = 3\n",
      "3 x 2 = 6\n",
      "3 x 3 = 9\n",
      "3 x 4 = 12\n",
      "3 x 5 = 15\n",
      "3 x 6 = 18\n",
      "3 x 7 = 21\n",
      "3 x 8 = 24\n",
      "3 x 9 = 27\n",
      "3 x 10 = 30\n",
      "#---------#\n"
     ]
    }
   ],
   "source": [
    "i = 2\n",
    "while i <= 3:\n",
    "    j = 1\n",
    "    while j <= 10:\n",
    "        print(i, \"x\",j ,\"=\", i*j)\n",
    "        j+=1\n",
    "    i+=1\n",
    "    print(\"#---------#\")"
   ]
  },
  {
   "cell_type": "code",
   "execution_count": 1,
   "metadata": {},
   "outputs": [
    {
     "name": "stdout",
     "output_type": "stream",
     "text": [
      "['1', '2', '3', '4', 'FIN']\n"
     ]
    }
   ],
   "source": [
    "a = []\n",
    "for n in [1, 2, '3', 4, 'FIN']:\n",
    "    a.append(str(n))\n",
    "print(\",\".join(a))\n"
   ]
  },
  {
   "cell_type": "markdown",
   "metadata": {},
   "source": [
    "# Fonctions"
   ]
  },
  {
   "cell_type": "code",
   "execution_count": 66,
   "metadata": {},
   "outputs": [
    {
     "name": "stdout",
     "output_type": "stream",
     "text": [
      "[1]\n",
      "[]\n",
      "[1]\n"
     ]
    }
   ],
   "source": [
    "L = []\n",
    "\n",
    "def add_1(a):\n",
    "    a = a[:]\n",
    "    a.append(1)\n",
    "    return a\n",
    "\n",
    "print(add_1(L))\n",
    "print(L)\n",
    "L = add_1(L)\n",
    "print(L)\n"
   ]
  },
  {
   "cell_type": "code",
   "execution_count": 69,
   "metadata": {},
   "outputs": [
    {
     "data": {
      "text/plain": [
       "3"
      ]
     },
     "execution_count": 69,
     "metadata": {},
     "output_type": "execute_result"
    }
   ],
   "source": [
    "def fact(n: int) -> int:\n",
    "    return(n)\n",
    "\n",
    "fact(3)\n"
   ]
  },
  {
   "cell_type": "code",
   "execution_count": 35,
   "metadata": {},
   "outputs": [],
   "source": [
    "import random\n",
    "attempt_number = 5\n",
    "\n",
    "def find_number():\n",
    "    i = 1\n",
    "    good_number = random.randint(0, 100)\n",
    "\n",
    "    print(\"Vous aurez au maximum\", attempt_number, \"tentatives !\")\n",
    "\n",
    "    while i <= attempt_number:\n",
    "        if i == 5:\n",
    "            print(\"Attention dernière tentative !\")\n",
    "            \n",
    "        number = int(input(\"Entrez un nombre !\"))\n",
    "        if number == good_number:\n",
    "            print(\"Bravo !!! Vous y êtes !\")\n",
    "            break\n",
    "        elif number > good_number:\n",
    "            print(\"Dommage trop grand !\")\n",
    "        else:\n",
    "            print(\"Ha mince trop petit !\")\n",
    "        i+=1\n",
    "        \n",
    "    return(number == good_number)  "
   ]
  },
  {
   "cell_type": "code",
   "execution_count": 36,
   "metadata": {},
   "outputs": [
    {
     "name": "stdout",
     "output_type": "stream",
     "text": [
      "Vous aurez au maximum 5 tentatives !\n",
      "Ha mince trop petit !\n",
      "Ha mince trop petit !\n",
      "Dommage trop grand !\n",
      "Dommage trop grand !\n",
      "Attention dernière tentative !\n",
      "Ha mince trop petit !\n",
      "Vous aurez au maximum 5 tentatives !\n",
      "Dommage trop grand !\n",
      "Dommage trop grand !\n",
      "Ha mince trop petit !\n",
      "Dommage trop grand !\n",
      "Attention dernière tentative !\n",
      "Dommage trop grand !\n",
      "A bientôt !\n"
     ]
    }
   ],
   "source": [
    "attempt = find_number()\n",
    "\n",
    "while attempt == False:\n",
    "    choice = input(\"Voulez vous recommencer ? y/n\")\n",
    "    if choice in [\"y\", \"yes\", \"Y\", \"YES\", \"Yes\"]:\n",
    "        find_number()\n",
    "    else:\n",
    "        print(\"A bientôt !\")\n",
    "        break\n",
    "    \n"
   ]
  },
  {
   "cell_type": "code",
   "execution_count": 35,
   "metadata": {},
   "outputs": [
    {
     "data": {
      "text/plain": [
       "'1 2 3'"
      ]
     },
     "execution_count": 35,
     "metadata": {},
     "output_type": "execute_result"
    }
   ],
   "source": [
    "def to_str(a):\n",
    "    tmp = []\n",
    "    for i in a:\n",
    "        tmp.append(str(i))\n",
    "    return \" \".join(tmp)\n",
    "\n",
    "\n",
    "to_str(['1', '2', '3'])\n"
   ]
  },
  {
   "cell_type": "code",
   "execution_count": 133,
   "metadata": {},
   "outputs": [
    {
     "name": "stdout",
     "output_type": "stream",
     "text": [
      "[1, 4, 0, 'nan', 'nan', 'nan', 625]\n"
     ]
    }
   ],
   "source": [
    "def gen(it):\n",
    "   for i in it:\n",
    "       if isinstance(i, int):\n",
    "           yield i**2\n",
    "       else:\n",
    "           yield 'nan'\n",
    "\n",
    "\n",
    "L = [1, 2, 0, '18', 'x', [11], 25]\n",
    "print(list(gen(L)))\n"
   ]
  },
  {
   "cell_type": "markdown",
   "metadata": {},
   "source": [
    "# Classes"
   ]
  },
  {
   "cell_type": "code",
   "execution_count": 62,
   "metadata": {},
   "outputs": [
    {
     "name": "stdout",
     "output_type": "stream",
     "text": [
      "123 34 707\n"
     ]
    }
   ],
   "source": [
    "class Parser:\n",
    "    def __init__(self, sep):\n",
    "        self.sep = sep\n",
    "        self.parsed_line = []\n",
    "\n",
    "    def parse(self, line):\n",
    "        self.parsed_line = [i.strip() for i in line.split(self.sep)\n",
    "                            if i.strip().isdigit()]\n",
    "\n",
    "    def __str__(self):\n",
    "        return ' '.join(self.parsed_line)\n",
    "\n",
    "\n",
    "test = '123  : fj356:34:fjjd:    707'\n",
    "\n",
    "p = Parser(':')\n",
    "p.parse(test)\n",
    "print(p)\n"
   ]
  },
  {
   "cell_type": "code",
   "execution_count": 86,
   "metadata": {},
   "outputs": [
    {
     "name": "stdout",
     "output_type": "stream",
     "text": [
      "2 x 1 = ?\n"
     ]
    },
    {
     "ename": "KeyboardInterrupt",
     "evalue": "Interrupted by user",
     "output_type": "error",
     "traceback": [
      "\u001b[0;31m---------------------------------------------------------------------------\u001b[0m",
      "\u001b[0;31mKeyboardInterrupt\u001b[0m                         Traceback (most recent call last)",
      "\u001b[0;32m<ipython-input-86-9c0b5dbad812>\u001b[0m in \u001b[0;36m<module>\u001b[0;34m\u001b[0m\n\u001b[1;32m      2\u001b[0m     \u001b[0mmul\u001b[0m \u001b[0;34m=\u001b[0m \u001b[0;36m2\u001b[0m\u001b[0;34m*\u001b[0m\u001b[0mi\u001b[0m\u001b[0;34m\u001b[0m\u001b[0;34m\u001b[0m\u001b[0m\n\u001b[1;32m      3\u001b[0m     \u001b[0mprint\u001b[0m\u001b[0;34m(\u001b[0m\u001b[0;34mf\"2 x {i} = ?\"\u001b[0m\u001b[0;34m)\u001b[0m\u001b[0;34m\u001b[0m\u001b[0;34m\u001b[0m\u001b[0m\n\u001b[0;32m----> 4\u001b[0;31m     \u001b[0mres\u001b[0m \u001b[0;34m=\u001b[0m \u001b[0mint\u001b[0m\u001b[0;34m(\u001b[0m\u001b[0minput\u001b[0m\u001b[0;34m(\u001b[0m\u001b[0;34m\"Entrez une réponse !\"\u001b[0m\u001b[0;34m)\u001b[0m\u001b[0;34m)\u001b[0m\u001b[0;34m\u001b[0m\u001b[0;34m\u001b[0m\u001b[0m\n\u001b[0m\u001b[1;32m      5\u001b[0m     \u001b[0;32mif\u001b[0m\u001b[0;34m(\u001b[0m\u001b[0mres\u001b[0m \u001b[0;34m==\u001b[0m \u001b[0mmul\u001b[0m\u001b[0;34m)\u001b[0m\u001b[0;34m:\u001b[0m\u001b[0;34m\u001b[0m\u001b[0;34m\u001b[0m\u001b[0m\n\u001b[1;32m      6\u001b[0m         \u001b[0mprint\u001b[0m\u001b[0;34m(\u001b[0m\u001b[0;34mf\"Excellent ! La bonne réponse était {2*i}\"\u001b[0m\u001b[0;34m)\u001b[0m\u001b[0;34m\u001b[0m\u001b[0;34m\u001b[0m\u001b[0m\n",
      "\u001b[0;32m~/Library/Python/3.9/lib/python/site-packages/ipykernel/kernelbase.py\u001b[0m in \u001b[0;36mraw_input\u001b[0;34m(self, prompt)\u001b[0m\n\u001b[1;32m    858\u001b[0m                 \u001b[0;34m\"raw_input was called, but this frontend does not support input requests.\"\u001b[0m\u001b[0;34m\u001b[0m\u001b[0;34m\u001b[0m\u001b[0m\n\u001b[1;32m    859\u001b[0m             )\n\u001b[0;32m--> 860\u001b[0;31m         return self._input_request(str(prompt),\n\u001b[0m\u001b[1;32m    861\u001b[0m             \u001b[0mself\u001b[0m\u001b[0;34m.\u001b[0m\u001b[0m_parent_ident\u001b[0m\u001b[0;34m,\u001b[0m\u001b[0;34m\u001b[0m\u001b[0;34m\u001b[0m\u001b[0m\n\u001b[1;32m    862\u001b[0m             \u001b[0mself\u001b[0m\u001b[0;34m.\u001b[0m\u001b[0m_parent_header\u001b[0m\u001b[0;34m,\u001b[0m\u001b[0;34m\u001b[0m\u001b[0;34m\u001b[0m\u001b[0m\n",
      "\u001b[0;32m~/Library/Python/3.9/lib/python/site-packages/ipykernel/kernelbase.py\u001b[0m in \u001b[0;36m_input_request\u001b[0;34m(self, prompt, ident, parent, password)\u001b[0m\n\u001b[1;32m    902\u001b[0m             \u001b[0;32mexcept\u001b[0m \u001b[0mKeyboardInterrupt\u001b[0m\u001b[0;34m:\u001b[0m\u001b[0;34m\u001b[0m\u001b[0;34m\u001b[0m\u001b[0m\n\u001b[1;32m    903\u001b[0m                 \u001b[0;31m# re-raise KeyboardInterrupt, to truncate traceback\u001b[0m\u001b[0;34m\u001b[0m\u001b[0;34m\u001b[0m\u001b[0;34m\u001b[0m\u001b[0m\n\u001b[0;32m--> 904\u001b[0;31m                 \u001b[0;32mraise\u001b[0m \u001b[0mKeyboardInterrupt\u001b[0m\u001b[0;34m(\u001b[0m\u001b[0;34m\"Interrupted by user\"\u001b[0m\u001b[0;34m)\u001b[0m \u001b[0;32mfrom\u001b[0m \u001b[0;32mNone\u001b[0m\u001b[0;34m\u001b[0m\u001b[0;34m\u001b[0m\u001b[0m\n\u001b[0m\u001b[1;32m    905\u001b[0m             \u001b[0;32mexcept\u001b[0m \u001b[0mException\u001b[0m \u001b[0;32mas\u001b[0m \u001b[0me\u001b[0m\u001b[0;34m:\u001b[0m\u001b[0;34m\u001b[0m\u001b[0;34m\u001b[0m\u001b[0m\n\u001b[1;32m    906\u001b[0m                 \u001b[0mself\u001b[0m\u001b[0;34m.\u001b[0m\u001b[0mlog\u001b[0m\u001b[0;34m.\u001b[0m\u001b[0mwarning\u001b[0m\u001b[0;34m(\u001b[0m\u001b[0;34m\"Invalid Message:\"\u001b[0m\u001b[0;34m,\u001b[0m \u001b[0mexc_info\u001b[0m\u001b[0;34m=\u001b[0m\u001b[0;32mTrue\u001b[0m\u001b[0;34m)\u001b[0m\u001b[0;34m\u001b[0m\u001b[0;34m\u001b[0m\u001b[0m\n",
      "\u001b[0;31mKeyboardInterrupt\u001b[0m: Interrupted by user"
     ]
    }
   ],
   "source": [
    "for i in range(1,11):\n",
    "    mul = 2*i\n",
    "    print(f\"2 x {i} = ?\")\n",
    "    res = int(input(\"Entrez une réponse !\"))\n",
    "    if(res == mul):\n",
    "        print(f\"Excellent ! La bonne réponse était {2*i}\")\n",
    "    if(res!=mul):\n",
    "        while res != mul:\n",
    "            res = int(input(\"Ce n'est pas la bonne réponse !\"))\n",
    "            \n",
    "    \n",
    "        \n",
    "\n"
   ]
  },
  {
   "cell_type": "code",
   "execution_count": 89,
   "metadata": {},
   "outputs": [
    {
     "name": "stdout",
     "output_type": "stream",
     "text": [
      "2 x 1 = ?\n",
      "2 x 2 = ?\n",
      "2 x 3 = ?\n",
      "2 x 4 = ?\n"
     ]
    },
    {
     "ename": "ValueError",
     "evalue": "invalid literal for int() with base 10: ''",
     "output_type": "error",
     "traceback": [
      "\u001b[0;31m---------------------------------------------------------------------------\u001b[0m",
      "\u001b[0;31mValueError\u001b[0m                                Traceback (most recent call last)",
      "\u001b[0;32m<ipython-input-89-9c7f018438e5>\u001b[0m in \u001b[0;36m<module>\u001b[0;34m\u001b[0m\n\u001b[1;32m      2\u001b[0m     \u001b[0mmul\u001b[0m \u001b[0;34m=\u001b[0m \u001b[0;36m2\u001b[0m\u001b[0;34m*\u001b[0m\u001b[0mi\u001b[0m\u001b[0;34m\u001b[0m\u001b[0;34m\u001b[0m\u001b[0m\n\u001b[1;32m      3\u001b[0m     \u001b[0mprint\u001b[0m\u001b[0;34m(\u001b[0m\u001b[0;34mf\"2 x {i} = ?\"\u001b[0m\u001b[0;34m)\u001b[0m\u001b[0;34m\u001b[0m\u001b[0;34m\u001b[0m\u001b[0m\n\u001b[0;32m----> 4\u001b[0;31m     \u001b[0mres\u001b[0m \u001b[0;34m=\u001b[0m \u001b[0mint\u001b[0m\u001b[0;34m(\u001b[0m\u001b[0minput\u001b[0m\u001b[0;34m(\u001b[0m\u001b[0;34m\"Entrez une réponse!\"\u001b[0m\u001b[0;34m)\u001b[0m\u001b[0;34m)\u001b[0m\u001b[0;34m\u001b[0m\u001b[0;34m\u001b[0m\u001b[0m\n\u001b[0m\u001b[1;32m      5\u001b[0m     \u001b[0mscore\u001b[0m \u001b[0;34m=\u001b[0m \u001b[0;36m0\u001b[0m\u001b[0;34m\u001b[0m\u001b[0;34m\u001b[0m\u001b[0m\n\u001b[1;32m      6\u001b[0m     \u001b[0;32mif\u001b[0m \u001b[0mres\u001b[0m \u001b[0;34m==\u001b[0m \u001b[0mmul\u001b[0m\u001b[0;34m:\u001b[0m\u001b[0;34m\u001b[0m\u001b[0;34m\u001b[0m\u001b[0m\n",
      "\u001b[0;31mValueError\u001b[0m: invalid literal for int() with base 10: ''"
     ]
    }
   ],
   "source": [
    "for i in range(1, 11):\n",
    "    mul = 2*i\n",
    "    print(f\"2 x {i} = ?\")\n",
    "    res = int(input(\"Entrez une réponse!\"))\n",
    "    score = 0\n",
    "    if res == mul:\n",
    "        score+=1\n",
    "print(f\"Vous avez {score}/10\")\n"
   ]
  }
 ],
 "metadata": {
  "interpreter": {
   "hash": "aee8b7b246df8f9039afb4144a1f6fd8d2ca17a180786b69acc140d282b71a49"
  },
  "kernelspec": {
   "display_name": "Python 3.9.0 64-bit",
   "name": "python3"
  },
  "language_info": {
   "codemirror_mode": {
    "name": "ipython",
    "version": 3
   },
   "file_extension": ".py",
   "mimetype": "text/x-python",
   "name": "python",
   "nbconvert_exporter": "python",
   "pygments_lexer": "ipython3",
   "version": "3.9.0"
  },
  "orig_nbformat": 4
 },
 "nbformat": 4,
 "nbformat_minor": 2
}
