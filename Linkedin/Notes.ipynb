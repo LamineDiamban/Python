{
 "metadata": {
  "language_info": {
   "codemirror_mode": {
    "name": "ipython",
    "version": 3
   },
   "file_extension": ".py",
   "mimetype": "text/x-python",
   "name": "python",
   "nbconvert_exporter": "python",
   "pygments_lexer": "ipython3",
   "version": "3.8.5-final"
  },
  "orig_nbformat": 2,
  "kernelspec": {
   "name": "python_defaultSpec_1599828335630",
   "display_name": "Python 3.8.5 64-bit"
  }
 },
 "nbformat": 4,
 "nbformat_minor": 2,
 "cells": [
  {
   "cell_type": "markdown",
   "metadata": {},
   "source": [
    "# Création et manipulation d'une liste"
   ]
  },
  {
   "cell_type": "code",
   "execution_count": 2,
   "metadata": {},
   "outputs": [
    {
     "output_type": "execute_result",
     "data": {
      "text/plain": "4"
     },
     "metadata": {},
     "execution_count": 2
    }
   ],
   "source": [
    "malist = ['a', 'b', 'c','d']\n",
    "malist[0]\n",
    "len(malist)"
   ]
  },
  {
   "cell_type": "code",
   "execution_count": 3,
   "metadata": {
    "tags": []
   },
   "outputs": [
    {
     "output_type": "stream",
     "name": "stdout",
     "text": "['a', 'b', 'c']\n"
    }
   ],
   "source": [
    "del malist[3]  #del malist[len(malist) - 1]\n",
    "print(malist)"
   ]
  },
  {
   "cell_type": "code",
   "execution_count": 4,
   "metadata": {
    "tags": []
   },
   "outputs": [
    {
     "output_type": "stream",
     "name": "stdout",
     "text": "['b', 'c']\n"
    }
   ],
   "source": [
    "malist.remove('a')\n",
    "print(malist)"
   ]
  },
  {
   "cell_type": "code",
   "execution_count": 7,
   "metadata": {
    "tags": []
   },
   "outputs": [
    {
     "output_type": "execute_result",
     "data": {
      "text/plain": "['b', 'c', 'e', 'f', 'c', 'f']"
     },
     "metadata": {},
     "execution_count": 7
    }
   ],
   "source": [
    "malist.extend(['c', 'f'])\n",
    "malist"
   ]
  },
  {
   "cell_type": "code",
   "execution_count": 11,
   "metadata": {
    "tags": []
   },
   "outputs": [
    {
     "output_type": "stream",
     "name": "stdout",
     "text": "2\n"
    },
    {
     "output_type": "execute_result",
     "data": {
      "text/plain": "0"
     },
     "metadata": {},
     "execution_count": 11
    }
   ],
   "source": [
    "print(malist.count('c'))\n",
    "malist.index('b')"
   ]
  },
  {
   "cell_type": "code",
   "execution_count": 13,
   "metadata": {},
   "outputs": [
    {
     "output_type": "execute_result",
     "data": {
      "text/plain": "['z', 'b', 'c', 'e', 'f', 'c', 'f']"
     },
     "metadata": {},
     "execution_count": 13
    }
   ],
   "source": [
    "malist.insert(0, 'z')\n",
    "malist"
   ]
  },
  {
   "cell_type": "code",
   "execution_count": 15,
   "metadata": {},
   "outputs": [
    {
     "output_type": "execute_result",
     "data": {
      "text/plain": "['b', 'c', 'c', 'e', 'f', 'f', 'z']"
     },
     "metadata": {},
     "execution_count": 15
    }
   ],
   "source": [
    "malist.sort()\n",
    "malist"
   ]
  },
  {
   "cell_type": "markdown",
   "metadata": {},
   "source": [
    "# Création et manipulation d'une dictionnaire"
   ]
  },
  {
   "cell_type": "code",
   "execution_count": 3,
   "metadata": {},
   "outputs": [
    {
     "output_type": "execute_result",
     "data": {
      "text/plain": "{'Modric': 'Réal', 'Martial': 'ManU', 'Mandanda': 'Marseille'}"
     },
     "metadata": {},
     "execution_count": 3
    }
   ],
   "source": [
    "equipe = {'Modric':'Réal', 'Martial':'ManU', 'Mandanda':'Marseille'}\n",
    "equipe"
   ]
  },
  {
   "cell_type": "code",
   "execution_count": 9,
   "metadata": {
    "tags": []
   },
   "outputs": [
    {
     "output_type": "stream",
     "name": "stdout",
     "text": "dict_keys(['Modric', 'Martial', 'Mandanda', 'Navas'])\ndict_values(['Réal', 'ManU', 'Marseille', 'Paris'])\nManU\ndict_items([('Modric', 'Réal'), ('Martial', 'ManU'), ('Mandanda', 'Marseille'), ('Navas', 'Paris')])\n"
    }
   ],
   "source": [
    "# Pour récupérer les clés ou les valeurs\n",
    "print(equipe.keys())\n",
    "print(equipe.values())\n",
    "print(equipe.get('Martial'))\n",
    "print(equipe.items())"
   ]
  },
  {
   "cell_type": "code",
   "execution_count": 7,
   "metadata": {},
   "outputs": [
    {
     "output_type": "execute_result",
     "data": {
      "text/plain": "{'Modric': 'Réal',\n 'Martial': 'ManU',\n 'Mandanda': 'Marseille',\n 'Navas': 'Paris'}"
     },
     "metadata": {},
     "execution_count": 7
    }
   ],
   "source": [
    "# Pour ajouter un nouvel élément\n",
    "equipe['Navas'] = 'Paris'\n",
    "equipe"
   ]
  },
  {
   "cell_type": "code",
   "execution_count": 8,
   "metadata": {},
   "outputs": [
    {
     "output_type": "execute_result",
     "data": {
      "text/plain": "True"
     },
     "metadata": {},
     "execution_count": 8
    }
   ],
   "source": [
    "# Pour tester l'existance d'une clé dans le dictionnaire\n",
    "'Modric' in equipe"
   ]
  },
  {
   "cell_type": "code",
   "execution_count": 17,
   "metadata": {
    "tags": []
   },
   "outputs": [
    {
     "output_type": "stream",
     "name": "stdout",
     "text": "Le joueur Modric joue dans l'équipe de Réal\nLe joueur Martial joue dans l'équipe de ManU\nLe joueur Mandanda joue dans l'équipe de Marseille\nLe joueur Navas joue dans l'équipe de Paris\n"
    }
   ],
   "source": [
    "for clé,valeur in equipe.items():\n",
    "    print(\"Le joueur\",clé,\"joue dans l'équipe de\",valeur)"
   ]
  },
  {
   "cell_type": "markdown",
   "metadata": {},
   "source": [
    "# Chargement de fichiers"
   ]
  },
  {
   "cell_type": "code",
   "execution_count": 4,
   "metadata": {},
   "outputs": [],
   "source": [
    "import pandas as pd\n",
    "import numpy as np"
   ]
  },
  {
   "cell_type": "code",
   "execution_count": 11,
   "metadata": {
    "tags": []
   },
   "outputs": [
    {
     "output_type": "stream",
     "name": "stdout",
     "text": "Nom   Prénom  Note 1  Note 2\n0  Tremblay     Alex      16      12\n1   Mestari  Ibrahim      13      16\n2    Manjra     Sara      15      16\n"
    },
    {
     "output_type": "execute_result",
     "data": {
      "text/plain": "pandas.core.frame.DataFrame"
     },
     "metadata": {},
     "execution_count": 11
    }
   ],
   "source": [
    "exemple = pd.read_excel(\"Chapitre_03/exemple.xlsx\")\n",
    "print(exemple)\n",
    "type(exemple)"
   ]
  },
  {
   "cell_type": "code",
   "execution_count": 46,
   "metadata": {},
   "outputs": [
    {
     "output_type": "execute_result",
     "data": {
      "text/plain": "14.666666666666666"
     },
     "metadata": {},
     "execution_count": 46
    }
   ],
   "source": [
    "exemple['Note finale'] = (exemple['Note 1'] + exemple['Note 2']) / 2\n",
    "exemple"
   ]
  },
  {
   "cell_type": "code",
   "execution_count": 14,
   "metadata": {},
   "outputs": [],
   "source": [
    "import os\n",
    "os.getcwd()"
   ]
  },
  {
   "cell_type": "markdown",
   "metadata": {},
   "source": [
    "# Fusion des données"
   ]
  },
  {
   "cell_type": "code",
   "execution_count": 28,
   "metadata": {},
   "outputs": [],
   "source": [
    "tab1 = np.arange(2,20,2).reshape(3,3)\n",
    "\n",
    "tab2 = tab1 + 1"
   ]
  },
  {
   "cell_type": "code",
   "execution_count": 31,
   "metadata": {},
   "outputs": [
    {
     "output_type": "execute_result",
     "data": {
      "text/plain": "array([[ 2,  4,  6],\n       [ 8, 10, 12],\n       [14, 16, 18],\n       [ 3,  5,  7],\n       [ 9, 11, 13],\n       [15, 17, 19]])"
     },
     "metadata": {},
     "execution_count": 31
    }
   ],
   "source": [
    "np.concatenate([tab1, tab2])"
   ]
  },
  {
   "cell_type": "code",
   "execution_count": 32,
   "metadata": {},
   "outputs": [
    {
     "output_type": "execute_result",
     "data": {
      "text/plain": "array([[ 2,  4,  6,  3,  5,  7],\n       [ 8, 10, 12,  9, 11, 13],\n       [14, 16, 18, 15, 17, 19]])"
     },
     "metadata": {},
     "execution_count": 32
    }
   ],
   "source": [
    "np.concatenate([tab1, tab2], axis=1)"
   ]
  },
  {
   "cell_type": "code",
   "execution_count": 35,
   "metadata": {},
   "outputs": [],
   "source": [
    "df1 = pd.DataFrame(tab1, index=[1,2,3], columns=['A','B','C'])\n",
    "\n",
    "df2 = pd.DataFrame(tab2, index=[4,5,6], columns=['A','B','C'])"
   ]
  },
  {
   "cell_type": "code",
   "execution_count": 37,
   "metadata": {},
   "outputs": [
    {
     "output_type": "execute_result",
     "data": {
      "text/plain": "    A   B   C\n1   2   4   6\n2   8  10  12\n3  14  16  18\n4   3   5   7\n5   9  11  13\n6  15  17  19",
      "text/html": "<div>\n<style scoped>\n    .dataframe tbody tr th:only-of-type {\n        vertical-align: middle;\n    }\n\n    .dataframe tbody tr th {\n        vertical-align: top;\n    }\n\n    .dataframe thead th {\n        text-align: right;\n    }\n</style>\n<table border=\"1\" class=\"dataframe\">\n  <thead>\n    <tr style=\"text-align: right;\">\n      <th></th>\n      <th>A</th>\n      <th>B</th>\n      <th>C</th>\n    </tr>\n  </thead>\n  <tbody>\n    <tr>\n      <th>1</th>\n      <td>2</td>\n      <td>4</td>\n      <td>6</td>\n    </tr>\n    <tr>\n      <th>2</th>\n      <td>8</td>\n      <td>10</td>\n      <td>12</td>\n    </tr>\n    <tr>\n      <th>3</th>\n      <td>14</td>\n      <td>16</td>\n      <td>18</td>\n    </tr>\n    <tr>\n      <th>4</th>\n      <td>3</td>\n      <td>5</td>\n      <td>7</td>\n    </tr>\n    <tr>\n      <th>5</th>\n      <td>9</td>\n      <td>11</td>\n      <td>13</td>\n    </tr>\n    <tr>\n      <th>6</th>\n      <td>15</td>\n      <td>17</td>\n      <td>19</td>\n    </tr>\n  </tbody>\n</table>\n</div>"
     },
     "metadata": {},
     "execution_count": 37
    }
   ],
   "source": [
    "pd.concat([df1,df2])"
   ]
  },
  {
   "cell_type": "code",
   "execution_count": 38,
   "metadata": {},
   "outputs": [
    {
     "output_type": "execute_result",
     "data": {
      "text/plain": "      A     B     C     A     B     C\n1   2.0   4.0   6.0   NaN   NaN   NaN\n2   8.0  10.0  12.0   NaN   NaN   NaN\n3  14.0  16.0  18.0   NaN   NaN   NaN\n4   NaN   NaN   NaN   3.0   5.0   7.0\n5   NaN   NaN   NaN   9.0  11.0  13.0\n6   NaN   NaN   NaN  15.0  17.0  19.0",
      "text/html": "<div>\n<style scoped>\n    .dataframe tbody tr th:only-of-type {\n        vertical-align: middle;\n    }\n\n    .dataframe tbody tr th {\n        vertical-align: top;\n    }\n\n    .dataframe thead th {\n        text-align: right;\n    }\n</style>\n<table border=\"1\" class=\"dataframe\">\n  <thead>\n    <tr style=\"text-align: right;\">\n      <th></th>\n      <th>A</th>\n      <th>B</th>\n      <th>C</th>\n      <th>A</th>\n      <th>B</th>\n      <th>C</th>\n    </tr>\n  </thead>\n  <tbody>\n    <tr>\n      <th>1</th>\n      <td>2.0</td>\n      <td>4.0</td>\n      <td>6.0</td>\n      <td>NaN</td>\n      <td>NaN</td>\n      <td>NaN</td>\n    </tr>\n    <tr>\n      <th>2</th>\n      <td>8.0</td>\n      <td>10.0</td>\n      <td>12.0</td>\n      <td>NaN</td>\n      <td>NaN</td>\n      <td>NaN</td>\n    </tr>\n    <tr>\n      <th>3</th>\n      <td>14.0</td>\n      <td>16.0</td>\n      <td>18.0</td>\n      <td>NaN</td>\n      <td>NaN</td>\n      <td>NaN</td>\n    </tr>\n    <tr>\n      <th>4</th>\n      <td>NaN</td>\n      <td>NaN</td>\n      <td>NaN</td>\n      <td>3.0</td>\n      <td>5.0</td>\n      <td>7.0</td>\n    </tr>\n    <tr>\n      <th>5</th>\n      <td>NaN</td>\n      <td>NaN</td>\n      <td>NaN</td>\n      <td>9.0</td>\n      <td>11.0</td>\n      <td>13.0</td>\n    </tr>\n    <tr>\n      <th>6</th>\n      <td>NaN</td>\n      <td>NaN</td>\n      <td>NaN</td>\n      <td>15.0</td>\n      <td>17.0</td>\n      <td>19.0</td>\n    </tr>\n  </tbody>\n</table>\n</div>"
     },
     "metadata": {},
     "execution_count": 38
    }
   ],
   "source": [
    "pd.concat([df1,df2], axis=1)"
   ]
  },
  {
   "cell_type": "code",
   "execution_count": 42,
   "metadata": {
    "tags": []
   },
   "outputs": [
    {
     "output_type": "stream",
     "name": "stdout",
     "text": "Salarié      groupe\n0    Eric  Technicien\n1   Hapsa   Ingénieur\n2   Elise   Ingénieur\n3     Xin  Technicien\n  Salarié  date_embauche\n0   Hapsa           2001\n1   Elise           1988\n2    Eric           2012\n3     Xin           2016\n"
    }
   ],
   "source": [
    "df1 = pd.DataFrame({'Salarié': ['Eric', 'Hapsa', 'Elise', 'Xin'], 'groupe': ['Technicien', 'Ingénieur', 'Ingénieur', 'Technicien']})\n",
    "print(df1)\n",
    "df2 = pd.DataFrame({'Salarié': ['Hapsa', 'Elise', 'Eric', 'Xin'], 'date_embauche': [2001, 1988, 2012, 2016]})\n",
    "print(df2)"
   ]
  },
  {
   "cell_type": "code",
   "execution_count": 43,
   "metadata": {},
   "outputs": [
    {
     "output_type": "execute_result",
     "data": {
      "text/plain": "  Salarié      groupe  date_embauche\n0    Eric  Technicien           2012\n1   Hapsa   Ingénieur           2001\n2   Elise   Ingénieur           1988\n3     Xin  Technicien           2016",
      "text/html": "<div>\n<style scoped>\n    .dataframe tbody tr th:only-of-type {\n        vertical-align: middle;\n    }\n\n    .dataframe tbody tr th {\n        vertical-align: top;\n    }\n\n    .dataframe thead th {\n        text-align: right;\n    }\n</style>\n<table border=\"1\" class=\"dataframe\">\n  <thead>\n    <tr style=\"text-align: right;\">\n      <th></th>\n      <th>Salarié</th>\n      <th>groupe</th>\n      <th>date_embauche</th>\n    </tr>\n  </thead>\n  <tbody>\n    <tr>\n      <th>0</th>\n      <td>Eric</td>\n      <td>Technicien</td>\n      <td>2012</td>\n    </tr>\n    <tr>\n      <th>1</th>\n      <td>Hapsa</td>\n      <td>Ingénieur</td>\n      <td>2001</td>\n    </tr>\n    <tr>\n      <th>2</th>\n      <td>Elise</td>\n      <td>Ingénieur</td>\n      <td>1988</td>\n    </tr>\n    <tr>\n      <th>3</th>\n      <td>Xin</td>\n      <td>Technicien</td>\n      <td>2016</td>\n    </tr>\n  </tbody>\n</table>\n</div>"
     },
     "metadata": {},
     "execution_count": 43
    }
   ],
   "source": [
    "pd.merge(df1, df2)"
   ]
  },
  {
   "cell_type": "markdown",
   "metadata": {},
   "source": [
    "# Stat desc"
   ]
  },
  {
   "cell_type": "code",
   "execution_count": 49,
   "metadata": {},
   "outputs": [
    {
     "output_type": "execute_result",
     "data": {
      "text/plain": "  étudiant  notes\n0        A     14\n1        B     14\n2        C     17\n3        A     13\n4        B     14\n5        C     15",
      "text/html": "<div>\n<style scoped>\n    .dataframe tbody tr th:only-of-type {\n        vertical-align: middle;\n    }\n\n    .dataframe tbody tr th {\n        vertical-align: top;\n    }\n\n    .dataframe thead th {\n        text-align: right;\n    }\n</style>\n<table border=\"1\" class=\"dataframe\">\n  <thead>\n    <tr style=\"text-align: right;\">\n      <th></th>\n      <th>étudiant</th>\n      <th>notes</th>\n    </tr>\n  </thead>\n  <tbody>\n    <tr>\n      <th>0</th>\n      <td>A</td>\n      <td>14</td>\n    </tr>\n    <tr>\n      <th>1</th>\n      <td>B</td>\n      <td>14</td>\n    </tr>\n    <tr>\n      <th>2</th>\n      <td>C</td>\n      <td>17</td>\n    </tr>\n    <tr>\n      <th>3</th>\n      <td>A</td>\n      <td>13</td>\n    </tr>\n    <tr>\n      <th>4</th>\n      <td>B</td>\n      <td>14</td>\n    </tr>\n    <tr>\n      <th>5</th>\n      <td>C</td>\n      <td>15</td>\n    </tr>\n  </tbody>\n</table>\n</div>"
     },
     "metadata": {},
     "execution_count": 49
    }
   ],
   "source": [
    "df1 = pd.DataFrame({'étudiant': ['A', 'B', 'C', 'A', 'B', 'C'], 'notes': np.random.randint(12,18,6)}, columns=['étudiant', 'notes'])\n",
    "df1"
   ]
  },
  {
   "cell_type": "code",
   "execution_count": 50,
   "metadata": {},
   "outputs": [
    {
     "output_type": "execute_result",
     "data": {
      "text/plain": "           notes\ncount   6.000000\nmean   14.500000\nstd     1.378405\nmin    13.000000\n25%    14.000000\n50%    14.000000\n75%    14.750000\nmax    17.000000",
      "text/html": "<div>\n<style scoped>\n    .dataframe tbody tr th:only-of-type {\n        vertical-align: middle;\n    }\n\n    .dataframe tbody tr th {\n        vertical-align: top;\n    }\n\n    .dataframe thead th {\n        text-align: right;\n    }\n</style>\n<table border=\"1\" class=\"dataframe\">\n  <thead>\n    <tr style=\"text-align: right;\">\n      <th></th>\n      <th>notes</th>\n    </tr>\n  </thead>\n  <tbody>\n    <tr>\n      <th>count</th>\n      <td>6.000000</td>\n    </tr>\n    <tr>\n      <th>mean</th>\n      <td>14.500000</td>\n    </tr>\n    <tr>\n      <th>std</th>\n      <td>1.378405</td>\n    </tr>\n    <tr>\n      <th>min</th>\n      <td>13.000000</td>\n    </tr>\n    <tr>\n      <th>25%</th>\n      <td>14.000000</td>\n    </tr>\n    <tr>\n      <th>50%</th>\n      <td>14.000000</td>\n    </tr>\n    <tr>\n      <th>75%</th>\n      <td>14.750000</td>\n    </tr>\n    <tr>\n      <th>max</th>\n      <td>17.000000</td>\n    </tr>\n  </tbody>\n</table>\n</div>"
     },
     "metadata": {},
     "execution_count": 50
    }
   ],
   "source": [
    "df1.describe()"
   ]
  },
  {
   "cell_type": "code",
   "execution_count": 57,
   "metadata": {
    "tags": []
   },
   "outputs": [
    {
     "output_type": "stream",
     "name": "stdout",
     "text": "14.5\n"
    },
    {
     "output_type": "execute_result",
     "data": {
      "text/plain": "0    14.0\n1    14.0\n2    17.0\n3    13.0\n4    14.0\n5    15.0\ndtype: float64"
     },
     "metadata": {},
     "execution_count": 57
    }
   ],
   "source": [
    "print(df1['notes'].mean())\n",
    "df1.mean(axis=1)"
   ]
  },
  {
   "cell_type": "code",
   "execution_count": 56,
   "metadata": {},
   "outputs": [
    {
     "output_type": "execute_result",
     "data": {
      "text/plain": "0    14.0\n1    14.0\n2    17.0\n3    13.0\n4    14.0\n5    15.0\ndtype: float64"
     },
     "metadata": {},
     "execution_count": 56
    }
   ],
   "source": []
  },
  {
   "cell_type": "code",
   "execution_count": 59,
   "metadata": {},
   "outputs": [
    {
     "output_type": "execute_result",
     "data": {
      "text/plain": "          notes\nétudiant       \nA            27\nB            28\nC            32",
      "text/html": "<div>\n<style scoped>\n    .dataframe tbody tr th:only-of-type {\n        vertical-align: middle;\n    }\n\n    .dataframe tbody tr th {\n        vertical-align: top;\n    }\n\n    .dataframe thead th {\n        text-align: right;\n    }\n</style>\n<table border=\"1\" class=\"dataframe\">\n  <thead>\n    <tr style=\"text-align: right;\">\n      <th></th>\n      <th>notes</th>\n    </tr>\n    <tr>\n      <th>étudiant</th>\n      <th></th>\n    </tr>\n  </thead>\n  <tbody>\n    <tr>\n      <th>A</th>\n      <td>27</td>\n    </tr>\n    <tr>\n      <th>B</th>\n      <td>28</td>\n    </tr>\n    <tr>\n      <th>C</th>\n      <td>32</td>\n    </tr>\n  </tbody>\n</table>\n</div>"
     },
     "metadata": {},
     "execution_count": 59
    }
   ],
   "source": [
    "df1.groupby('étudiant').sum()"
   ]
  },
  {
   "cell_type": "code",
   "execution_count": 60,
   "metadata": {},
   "outputs": [
    {
     "output_type": "execute_result",
     "data": {
      "text/plain": "         notes                                                \n         count  mean       std   min    25%   50%    75%   max\nétudiant                                                      \nA          2.0  13.5  0.707107  13.0  13.25  13.5  13.75  14.0\nB          2.0  14.0  0.000000  14.0  14.00  14.0  14.00  14.0\nC          2.0  16.0  1.414214  15.0  15.50  16.0  16.50  17.0",
      "text/html": "<div>\n<style scoped>\n    .dataframe tbody tr th:only-of-type {\n        vertical-align: middle;\n    }\n\n    .dataframe tbody tr th {\n        vertical-align: top;\n    }\n\n    .dataframe thead tr th {\n        text-align: left;\n    }\n\n    .dataframe thead tr:last-of-type th {\n        text-align: right;\n    }\n</style>\n<table border=\"1\" class=\"dataframe\">\n  <thead>\n    <tr>\n      <th></th>\n      <th colspan=\"8\" halign=\"left\">notes</th>\n    </tr>\n    <tr>\n      <th></th>\n      <th>count</th>\n      <th>mean</th>\n      <th>std</th>\n      <th>min</th>\n      <th>25%</th>\n      <th>50%</th>\n      <th>75%</th>\n      <th>max</th>\n    </tr>\n    <tr>\n      <th>étudiant</th>\n      <th></th>\n      <th></th>\n      <th></th>\n      <th></th>\n      <th></th>\n      <th></th>\n      <th></th>\n      <th></th>\n    </tr>\n  </thead>\n  <tbody>\n    <tr>\n      <th>A</th>\n      <td>2.0</td>\n      <td>13.5</td>\n      <td>0.707107</td>\n      <td>13.0</td>\n      <td>13.25</td>\n      <td>13.5</td>\n      <td>13.75</td>\n      <td>14.0</td>\n    </tr>\n    <tr>\n      <th>B</th>\n      <td>2.0</td>\n      <td>14.0</td>\n      <td>0.000000</td>\n      <td>14.0</td>\n      <td>14.00</td>\n      <td>14.0</td>\n      <td>14.00</td>\n      <td>14.0</td>\n    </tr>\n    <tr>\n      <th>C</th>\n      <td>2.0</td>\n      <td>16.0</td>\n      <td>1.414214</td>\n      <td>15.0</td>\n      <td>15.50</td>\n      <td>16.0</td>\n      <td>16.50</td>\n      <td>17.0</td>\n    </tr>\n  </tbody>\n</table>\n</div>"
     },
     "metadata": {},
     "execution_count": 60
    }
   ],
   "source": [
    "df1.groupby('étudiant').describe()"
   ]
  },
  {
   "cell_type": "markdown",
   "metadata": {},
   "source": []
  }
 ]
}