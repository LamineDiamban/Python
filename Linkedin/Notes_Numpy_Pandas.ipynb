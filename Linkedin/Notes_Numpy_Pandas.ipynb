{
 "metadata": {
  "language_info": {
   "codemirror_mode": {
    "name": "ipython",
    "version": 3
   },
   "file_extension": ".py",
   "mimetype": "text/x-python",
   "name": "python",
   "nbconvert_exporter": "python",
   "pygments_lexer": "ipython3",
   "version": "3.8.5-final"
  },
  "orig_nbformat": 2,
  "kernelspec": {
   "name": "python_defaultSpec_1599834167506",
   "display_name": "Python 3.8.5 64-bit"
  }
 },
 "nbformat": 4,
 "nbformat_minor": 2,
 "cells": [
  {
   "cell_type": "code",
   "execution_count": 2,
   "metadata": {},
   "outputs": [],
   "source": [
    "import numpy as np\n",
    "import pandas as pd"
   ]
  },
  {
   "cell_type": "markdown",
   "metadata": {},
   "source": [
    "# Manipulation de Numpy"
   ]
  },
  {
   "cell_type": "code",
   "execution_count": 3,
   "metadata": {
    "tags": []
   },
   "outputs": [
    {
     "output_type": "stream",
     "name": "stdout",
     "text": "[[ 1  2  3  4]\n [ 5  6  7  8]\n [ 9 10 11 12]]\n[[ 1  2]\n [ 3  4]\n [ 5  6]\n [ 7  8]\n [ 9 10]\n [11 12]]\n18\n[[-2.81474977e+14  5.62949953e+14 -2.81474977e+14]\n [ 5.62949953e+14 -1.12589991e+15  5.62949953e+14]\n [-2.81474977e+14  5.62949953e+14 -2.81474977e+14]]\n"
    }
   ],
   "source": [
    "matrix = np.array([[1, 2, 3, 4], [5, 6, 7, 8],[9, 10, 11, 12]])\n",
    "print(matrix)\n",
    "# Pour créer une matrice avec 2 colonnes\n",
    "print(matrix.reshape(-1,2))\n",
    "print(matrix.trace())\n",
    "print(np.linalg.inv(matrix[:,1:]))\n"
   ]
  },
  {
   "cell_type": "code",
   "execution_count": 4,
   "metadata": {
    "tags": []
   },
   "outputs": [
    {
     "output_type": "stream",
     "name": "stdout",
     "text": "[-0.3189812   0.59898963 -0.99281286  0.44374636 -1.35775451  0.06549157\n -0.65617846  1.47549939  0.97978135 -2.53229123]\n[3 0 7 7 0 8 7 0 9 9]\n[[7 7 2]\n [1 9 6]]\n"
    }
   ],
   "source": [
    "print(np.random.normal(0, 1, 10))\n",
    "print(np.random.randint(10,size=10))\n",
    "print(np.random.randint(10, size = (2,3)))"
   ]
  },
  {
   "cell_type": "markdown",
   "metadata": {},
   "source": [
    "# Manipulation de Pandas\n",
    "Exemple pris sur le livre de Machine Learning with Python"
   ]
  },
  {
   "cell_type": "code",
   "execution_count": 5,
   "metadata": {},
   "outputs": [
    {
     "output_type": "execute_result",
     "data": {
      "text/plain": "   PassengerId  Survived  Pclass  Name     Sex   Age  SibSp  Parch     Fare  \\\n0            1         0       3    Mr    male  22.0      1      0   7.2500   \n1            2         1       1   Mrs  female  38.0      1      0  71.2833   \n2            3         1       3  Miss  female  26.0      0      0   7.9250   \n3            4         1       1   Mrs  female  35.0      1      0  53.1000   \n4            5         0       3    Mr    male  35.0      0      0   8.0500   \n\n      Cabin Embarked  Ticketnumber Ticketprefix  Pclage  \n0  no_cabin        S             5            A    66.0  \n1         C        C             1           PC    38.0  \n2  no_cabin        S             2        STONO    78.0  \n3         C        S             1    no_prefix    35.0  \n4  no_cabin        S             3    no_prefix   105.0  ",
      "text/html": "<div>\n<style scoped>\n    .dataframe tbody tr th:only-of-type {\n        vertical-align: middle;\n    }\n\n    .dataframe tbody tr th {\n        vertical-align: top;\n    }\n\n    .dataframe thead th {\n        text-align: right;\n    }\n</style>\n<table border=\"1\" class=\"dataframe\">\n  <thead>\n    <tr style=\"text-align: right;\">\n      <th></th>\n      <th>PassengerId</th>\n      <th>Survived</th>\n      <th>Pclass</th>\n      <th>Name</th>\n      <th>Sex</th>\n      <th>Age</th>\n      <th>SibSp</th>\n      <th>Parch</th>\n      <th>Fare</th>\n      <th>Cabin</th>\n      <th>Embarked</th>\n      <th>Ticketnumber</th>\n      <th>Ticketprefix</th>\n      <th>Pclage</th>\n    </tr>\n  </thead>\n  <tbody>\n    <tr>\n      <th>0</th>\n      <td>1</td>\n      <td>0</td>\n      <td>3</td>\n      <td>Mr</td>\n      <td>male</td>\n      <td>22.0</td>\n      <td>1</td>\n      <td>0</td>\n      <td>7.2500</td>\n      <td>no_cabin</td>\n      <td>S</td>\n      <td>5</td>\n      <td>A</td>\n      <td>66.0</td>\n    </tr>\n    <tr>\n      <th>1</th>\n      <td>2</td>\n      <td>1</td>\n      <td>1</td>\n      <td>Mrs</td>\n      <td>female</td>\n      <td>38.0</td>\n      <td>1</td>\n      <td>0</td>\n      <td>71.2833</td>\n      <td>C</td>\n      <td>C</td>\n      <td>1</td>\n      <td>PC</td>\n      <td>38.0</td>\n    </tr>\n    <tr>\n      <th>2</th>\n      <td>3</td>\n      <td>1</td>\n      <td>3</td>\n      <td>Miss</td>\n      <td>female</td>\n      <td>26.0</td>\n      <td>0</td>\n      <td>0</td>\n      <td>7.9250</td>\n      <td>no_cabin</td>\n      <td>S</td>\n      <td>2</td>\n      <td>STONO</td>\n      <td>78.0</td>\n    </tr>\n    <tr>\n      <th>3</th>\n      <td>4</td>\n      <td>1</td>\n      <td>1</td>\n      <td>Mrs</td>\n      <td>female</td>\n      <td>35.0</td>\n      <td>1</td>\n      <td>0</td>\n      <td>53.1000</td>\n      <td>C</td>\n      <td>S</td>\n      <td>1</td>\n      <td>no_prefix</td>\n      <td>35.0</td>\n    </tr>\n    <tr>\n      <th>4</th>\n      <td>5</td>\n      <td>0</td>\n      <td>3</td>\n      <td>Mr</td>\n      <td>male</td>\n      <td>35.0</td>\n      <td>0</td>\n      <td>0</td>\n      <td>8.0500</td>\n      <td>no_cabin</td>\n      <td>S</td>\n      <td>3</td>\n      <td>no_prefix</td>\n      <td>105.0</td>\n    </tr>\n  </tbody>\n</table>\n</div>"
     },
     "metadata": {},
     "execution_count": 5
    }
   ],
   "source": [
    "dataframe = pd.read_csv('../Data/titanic.csv') \n",
    "dataframe.head(5)"
   ]
  },
  {
   "cell_type": "code",
   "execution_count": 13,
   "metadata": {
    "tags": []
   },
   "outputs": [
    {
     "output_type": "stream",
     "name": "stdout",
     "text": "(891, 14)\nIndex(['PassengerId', 'Survived', 'Pclass', 'Name', 'Sex', 'Age', 'SibSp',\n       'Parch', 'Fare', 'Cabin', 'Embarked', 'Ticketnumber', 'Ticketprefix',\n       'Pclage'],\n      dtype='object')\n"
    }
   ],
   "source": [
    "print(dataframe.shape)\n",
    "print(dataframe.columns)"
   ]
  },
  {
   "cell_type": "code",
   "execution_count": 6,
   "metadata": {},
   "outputs": [
    {
     "output_type": "execute_result",
     "data": {
      "text/plain": "<bound method NDFrame.describe of      PassengerId  Survived  Pclass  Name     Sex   Age  SibSp  Parch     Fare  \\\n0              1         0       3    Mr    male  22.0      1      0   7.2500   \n1              2         1       1   Mrs  female  38.0      1      0  71.2833   \n2              3         1       3  Miss  female  26.0      0      0   7.9250   \n3              4         1       1   Mrs  female  35.0      1      0  53.1000   \n4              5         0       3    Mr    male  35.0      0      0   8.0500   \n..           ...       ...     ...   ...     ...   ...    ...    ...      ...   \n886          887         0       2   Rev    male  27.0      0      0  13.0000   \n887          888         1       1  Miss  female  19.0      0      0  30.0000   \n888          889         0       3  Miss  female  10.0      1      2  23.4500   \n889          890         1       1    Mr    male  26.0      0      0  30.0000   \n890          891         0       3    Mr    male  32.0      0      0   7.7500   \n\n        Cabin Embarked  Ticketnumber Ticketprefix  Pclage  \n0    no_cabin        S             5            A    66.0  \n1           C        C             1           PC    38.0  \n2    no_cabin        S             2        STONO    78.0  \n3           C        S             1    no_prefix    35.0  \n4    no_cabin        S             3    no_prefix   105.0  \n..        ...      ...           ...          ...     ...  \n886  no_cabin        S             2    no_prefix    54.0  \n887         B        S             1    no_prefix    19.0  \n888  no_cabin        S             3           WC    30.0  \n889         C        C             1    no_prefix    26.0  \n890  no_cabin        Q             3    no_prefix    96.0  \n\n[891 rows x 14 columns]>"
     },
     "metadata": {},
     "execution_count": 6
    }
   ],
   "source": [
    "dataframe.describe"
   ]
  },
  {
   "cell_type": "code",
   "execution_count": null,
   "metadata": {},
   "outputs": [],
   "source": []
  }
 ]
}